{
  "nbformat": 4,
  "nbformat_minor": 0,
  "metadata": {
    "colab": {
      "name": "coco_image_viewer.ipynb",
      "version": "0.3.2",
      "provenance": [],
      "toc_visible": true
    },
    "language_info": {
      "codemirror_mode": {
        "name": "ipython",
        "version": 3
      },
      "file_extension": ".py",
      "mimetype": "text/x-python",
      "name": "python",
      "nbconvert_exporter": "python",
      "pygments_lexer": "ipython3",
      "version": "3.7.2"
    },
    "kernelspec": {
      "name": "python3",
      "display_name": "Python 3"
    },
    "accelerator": "GPU"
  },
  "cells": [
    {
      "cell_type": "markdown",
      "metadata": {
        "id": "89JT2QIGtLSg",
        "colab_type": "text"
      },
      "source": [
        "# COCO Image Viewer\n",
        "A single image COCO dataset viewer. Import COCO Instances JSON and view segmentations on top of that image."
      ]
    },
    {
      "cell_type": "code",
      "metadata": {
        "id": "BFNP7oDctLSk",
        "colab_type": "code",
        "colab": {}
      },
      "source": [
        "import json\n",
        "from pathlib import Path\n",
        "from PIL import Image as PILImage\n",
        "import IPython\n",
        "import numpy as np\n",
        "from math import trunc"
      ],
      "execution_count": 0,
      "outputs": []
    },
    {
      "cell_type": "markdown",
      "metadata": {
        "id": "swUtPmy0tLSs",
        "colab_type": "text"
      },
      "source": [
        "# CocoDataset Class\n",
        "This class imports and processes an annotations JSON file that you will specify when creating an instance of the class."
      ]
    },
    {
      "cell_type": "code",
      "metadata": {
        "id": "nc6LxXLjtLSt",
        "colab_type": "code",
        "colab": {}
      },
      "source": [
        "class CocoDataset():\n",
        "    def __init__(self, annotation_path, image_dir):\n",
        "        self.annotation_path = annotation_path\n",
        "        self.image_dir = image_dir\n",
        "        \n",
        "        # Customize these segmentation colors if you like, if there are more segmentations\n",
        "        # than colors in an image, the remaining segmentations will default to white\n",
        "        self.colors = ['red', 'green', 'blue', 'yellow']\n",
        "        \n",
        "        json_file = open(self.annotation_path)\n",
        "        self.coco = json.load(json_file)\n",
        "        json_file.close()\n",
        "        \n",
        "        self._process_info()\n",
        "        self._process_licenses()\n",
        "        self._process_categories()\n",
        "        self._process_images()\n",
        "        self._process_segmentations()\n",
        "    \n",
        "    def _process_info(self):\n",
        "        self.info = self.coco['info']\n",
        "        \n",
        "    def _process_licenses(self):\n",
        "        self.licenses = self.coco['licenses']\n",
        "        \n",
        "    def _process_categories(self):\n",
        "        self.categories = dict()\n",
        "        self.super_categories = dict()\n",
        "        \n",
        "        for category in self.coco['categories']:\n",
        "            cat_id = category['id']\n",
        "            super_category = category['supercategory']\n",
        "            \n",
        "            # Add category to categories dict\n",
        "            if cat_id not in self.categories:\n",
        "                self.categories[cat_id] = category\n",
        "            else:\n",
        "                print(f'ERROR: Skipping duplicate category id: {category}')\n",
        "            \n",
        "            # Add category id to the super_categories dict\n",
        "            if super_category not in self.super_categories:\n",
        "                self.super_categories[super_category] = {cat_id}\n",
        "            else:\n",
        "                self.super_categories[super_category] |= {cat_id} # e.g. {1, 2, 3} |= {4} => {1, 2, 3, 4}\n",
        "\n",
        "    def _process_images(self):\n",
        "        self.images = dict()\n",
        "        for image in self.coco['images']:\n",
        "            image_id = image['id']\n",
        "            if image_id not in self.images:\n",
        "                self.images[image_id] = image\n",
        "            else:\n",
        "                print(f'ERROR: Skipping duplicate image id: {image}')\n",
        "                \n",
        "    def _process_segmentations(self):\n",
        "        self.segmentations = dict()\n",
        "        for segmentation in self.coco['annotations']:\n",
        "            image_id = segmentation['image_id']\n",
        "            if image_id not in self.segmentations:\n",
        "                self.segmentations[image_id] = []\n",
        "            self.segmentations[image_id].append(segmentation)\n",
        "        \n",
        "    def display_info(self):\n",
        "        print('Dataset Info')\n",
        "        print('==================')\n",
        "        for key, item in self.info.items():\n",
        "            print(f'  {key}: {item}')\n",
        "            \n",
        "    def display_licenses(self):\n",
        "        print('Licenses')\n",
        "        print('==================')\n",
        "        for license in self.licenses:\n",
        "            for key, item in license.items():\n",
        "                print(f'  {key}: {item}')\n",
        "                \n",
        "    def display_categories(self):\n",
        "        print('Categories')\n",
        "        print('==================')\n",
        "        for sc_name, set_of_cat_ids in self.super_categories.items():\n",
        "            print(f'  super_category: {sc_name}')\n",
        "            for cat_id in set_of_cat_ids:\n",
        "                print(f'    id {cat_id}: {self.categories[cat_id][\"name\"]}'\n",
        "                     )\n",
        "                \n",
        "            print('')\n",
        "            \n",
        "    def display_image(self, image_id, show_bbox=True, show_polys=True, show_crowds=True):\n",
        "        print('Image')\n",
        "        print('==================')\n",
        "        \n",
        "        # Print image info\n",
        "        image = self.images[image_id]\n",
        "        for key, val in image.items():\n",
        "            print(f'  {key}: {val}')\n",
        "            \n",
        "        # Open the image\n",
        "        image_path = Path(self.image_dir) / image['file_name']\n",
        "        image = PILImage.open(image_path)\n",
        "        \n",
        "        # Calculate the size and adjusted display size\n",
        "        max_width = 600\n",
        "        image_width, image_height = image.size\n",
        "        adjusted_width = min(image_width, max_width)\n",
        "        adjusted_ratio = adjusted_width / image_width\n",
        "        adjusted_height = adjusted_ratio * image_height\n",
        "        \n",
        "        # Create bounding boxes and polygons\n",
        "        bboxes = dict()\n",
        "        polygons = dict()\n",
        "        rle_regions = dict()\n",
        "        seg_colors = dict()\n",
        "        \n",
        "        for i, seg in enumerate(self.segmentations[image_id]):\n",
        "            if i < len(self.colors):\n",
        "                seg_colors[seg['id']] = self.colors[i]\n",
        "            else:\n",
        "                seg_colors[seg['id']] = 'white'\n",
        "                \n",
        "            print(f'  {seg_colors[seg[\"id\"]]}: {self.categories[seg[\"category_id\"]][\"name\"]}')\n",
        "            \n",
        "            bboxes[seg['id']] = np.multiply(seg['bbox'], adjusted_ratio).astype(int)\n",
        "            \n",
        "            if seg['iscrowd'] == 0:\n",
        "                polygons[seg['id']] = []\n",
        "                for seg_points in seg['segmentation']:\n",
        "                    seg_points = np.multiply(seg_points, adjusted_ratio).astype(int)\n",
        "                    polygons[seg['id']].append(str(seg_points).lstrip('[').rstrip(']'))\n",
        "            else:\n",
        "                # Decode the RLE\n",
        "                px = 0\n",
        "                rle_list = []\n",
        "                for j, counts in enumerate(seg['segmentation']['counts']):\n",
        "                    if counts < 0:\n",
        "                        print(f'ERROR: One of the counts was negative, treating as 0: {counts}')\n",
        "                        counts = 0\n",
        "                    \n",
        "                    if j % 2 == 0:\n",
        "                        # Empty pixels\n",
        "                        px += counts\n",
        "                    else:\n",
        "                        # Create one or more vertical rectangles\n",
        "                        x1 = trunc(px / image_height)\n",
        "                        y1 = px % image_height\n",
        "                        px += counts\n",
        "                        x2 = trunc(px / image_height)\n",
        "                        y2 = px % image_height\n",
        "                        \n",
        "                        if x2 == x1: # One vertical column\n",
        "                            line = [x1, y1, 1, (y2 - y1)]\n",
        "                            line = np.multiply(line, adjusted_ratio)\n",
        "                            rle_list.append(line)\n",
        "                        else: # Two or more columns\n",
        "                            # Insert left-most line first\n",
        "                            left_line = [x1, y1, 1, (image_height - y1)]\n",
        "                            left_line = np.multiply(left_line, adjusted_ratio)\n",
        "                            rle_list.append(left_line)\n",
        "                            \n",
        "                            # Insert middle lines (if needed)\n",
        "                            lines_spanned = x2 - x1 + 1\n",
        "                            if lines_spanned > 2: # Two columns won't have a middle\n",
        "                                middle_lines = [(x1 + 1), 0, lines_spanned - 2, image_height]\n",
        "                                middle_lines = np.multiply(middle_lines, adjusted_ratio)\n",
        "                                rle_list.append(middle_lines)\n",
        "                                \n",
        "                            # Insert right-most line\n",
        "                            right_line = [x2, 0, 1, y2]\n",
        "                            right_line = np.multiply(right_line, adjusted_ratio)\n",
        "                            rle_list.append(right_line)\n",
        "                            \n",
        "                if len(rle_list) > 0:\n",
        "                    rle_regions[seg['id']] = rle_list\n",
        "                                \n",
        "                            \n",
        "        \n",
        "        # Draw the image\n",
        "        html = '<div class=\"container\" style=\"position:relative;\">'\n",
        "        html += f'<img src=\"{str(image_path)}\" style=\"position:relative; top:0px; left:0px; width:{adjusted_width}px;\">'\n",
        "        html += '<div class=\"svgclass\">'\n",
        "        html += f'<svg width=\"{adjusted_width}\" height=\"{adjusted_height}\">'\n",
        "        \n",
        "        # Draw shapes on image\n",
        "        if show_polys:\n",
        "            for seg_id, points_list in polygons.items():\n",
        "                for points in points_list:\n",
        "                    html += f'<polygon points=\"{points}\" \\\n",
        "                        style=\"fill:{seg_colors[seg_id]}; stroke:{seg_colors[seg_id]}; fill-opacity:0.5; stroke-width:1;\" />'\n",
        "        \n",
        "        if show_crowds:\n",
        "            for seg_id, line_list in rle_regions.items():\n",
        "                for line in line_list:\n",
        "                    html += f'<rect x=\"{line[0]}\" y=\"{line[1]}\" width=\"{line[2]}\" height=\"{line[3]}\" \\\n",
        "                        style=\"fill:{seg_colors[seg_id]}; stroke:{seg_colors[seg_id]}; \\\n",
        "                        fill-opacity:0.5; stroke-opacity:0.5\" />'\n",
        "        \n",
        "        if show_bbox:\n",
        "            for seg_id, bbox in bboxes.items():\n",
        "                html += f'<rect x=\"{bbox[0]}\" y=\"{bbox[1]}\" width=\"{bbox[2]}\" height=\"{bbox[3]}\" \\\n",
        "                    style=\"fill:{seg_colors[seg_id]}; stroke:{seg_colors[seg_id]}; fill-opacity:0\" />'\n",
        "        \n",
        "        html += '</svg>'\n",
        "        html += '</div>'\n",
        "        html += '</div>'\n",
        "        html += '<style>'\n",
        "        html += '.svgclass {position: absolute; top:0px; left: 0px}'\n",
        "        html += '</style>'\n",
        "        \n",
        "        return html\n",
        "        \n",
        "        "
      ],
      "execution_count": 0,
      "outputs": []
    },
    {
      "cell_type": "markdown",
      "metadata": {
        "id": "LAKAAuyNtLSv",
        "colab_type": "text"
      },
      "source": [
        "# Open Instances Annotations and Display Info\n",
        "In this section, we create a new instance of the CocoDataset class, which will open the instances JSON and display high level information about the dataset: info, license, and categories.\n",
        "\n",
        "## Instructions\n",
        "- Replace the instances_json_path with the path to your instances json file.\n",
        "- Replace the images_path with the path to the folder that contains all of the images referenced in the instances json.\n",
        "\n",
        "If you don't already have these files, you can find download links in [../datasets/README.md](../datasets/README.md)"
      ]
    },
    {
      "cell_type": "markdown",
      "metadata": {
        "id": "SyzeHRqnYp0r",
        "colab_type": "text"
      },
      "source": [
        "## JG: Inserting github images in the markdown\n",
        "\n",
        "using html-style, just enter the relative path from this notebook to the image, in this case:\n",
        "\n",
        "    <img src=\"https://github.com/just4deeptree/cocosynth/blob/master/datasets/box_dataset_synthetic_complete/val/images/00000000.jpg?raw=1\" width=\"300\">\n",
        "\n",
        "<img src=\"https://github.com/just4deeptree/cocosynth/blob/master/datasets/box_dataset_synthetic_complete/val/images/00000000.jpg?raw=1\" width=\"300\">\n",
        "\n",
        "Using markdown-style, enter the full path to the image. Please, note the \"raw\" directory, not the \"blob\" shown on the browser address bar: \n",
        "\n",
        "        ![alt text](https://github.com/yerbby/scientific-python-lectures/raw/master/images/github-diff.png \"title text\")\n",
        "\n",
        "![alt text](https://github.com/yerbby/scientific-python-lectures/raw/master/images/github-diff.png \"title text\")\n",
        "\n",
        "Using markdown-style, entering relative paths. This is the preferred solution (sugested by github), as it will change image automatically depending on the branch selected: \n",
        "\n",
        "        ![Alt text](../datasets/box_dataset_synthetic_complete/val/images/00000000.jpg \"Title\")\n",
        "        \n",
        "        In case there is an error, use raw=true:\n",
        "        \n",
        "       ![Alt text](../datasets/box_dataset_synthetic_complete/val/images/00000000.jpg?raw=true \"Title\") \n",
        "\n",
        "![Alt text](../datasets/box_dataset_synthetic_complete/val/images/00000000.jpg \"Title\")\n"
      ]
    },
    {
      "cell_type": "markdown",
      "metadata": {
        "id": "vySSm-dDExxk",
        "colab_type": "text"
      },
      "source": [
        ""
      ]
    },
    {
      "cell_type": "markdown",
      "metadata": {
        "id": "CGL7fUbn0PcQ",
        "colab_type": "text"
      },
      "source": [
        "## JG: Opening images from Google Drive"
      ]
    },
    {
      "cell_type": "code",
      "metadata": {
        "id": "N62qbhJnxgvA",
        "colab_type": "code",
        "colab": {
          "base_uri": "https://localhost:8080/",
          "height": 126
        },
        "outputId": "dfacd08f-8956-4beb-c3d7-85c8d4d5851c"
      },
      "source": [
        "# JG: this code mounts your GoogleDrive to Collaboratory.\n",
        "# Copy and paste the authorization code, then \n",
        "# you will see your Google Drive files in the left pane (file explorer). \n",
        "# Right click on the file that you need to import and select çopy path\n",
        "# You should be able to access a file under path:\n",
        "# 'gdrive/My Drive/path_2_file/image.png'\n",
        "\n",
        "from google.colab import drive\n",
        "drive.mount('/content/gdrive')\n"
      ],
      "execution_count": 3,
      "outputs": [
        {
          "output_type": "stream",
          "text": [
            "Go to this URL in a browser: https://accounts.google.com/o/oauth2/auth?client_id=947318989803-6bn6qk8qdgf4n4g3pfee6491hc0brc4i.apps.googleusercontent.com&redirect_uri=urn%3Aietf%3Awg%3Aoauth%3A2.0%3Aoob&scope=email%20https%3A%2F%2Fwww.googleapis.com%2Fauth%2Fdocs.test%20https%3A%2F%2Fwww.googleapis.com%2Fauth%2Fdrive%20https%3A%2F%2Fwww.googleapis.com%2Fauth%2Fdrive.photos.readonly%20https%3A%2F%2Fwww.googleapis.com%2Fauth%2Fpeopleapi.readonly&response_type=code\n",
            "\n",
            "Enter your authorization code:\n",
            "··········\n",
            "Mounted at /content/gdrive\n"
          ],
          "name": "stdout"
        }
      ]
    },
    {
      "cell_type": "code",
      "metadata": {
        "id": "J7h-xuZ2tLSw",
        "colab_type": "code",
        "colab": {
          "base_uri": "https://localhost:8080/",
          "height": 408
        },
        "outputId": "e0089439-0166-439d-cea2-ca919f9279c1"
      },
      "source": [
        "# instances_json_path = \"../datasets/box_dataset_synthetic/output/coco_instances.json\"\n",
        "# images_path = \"../datasets/box_dataset_synthetic/output/images\"\n",
        "# JG: open images from just4deeptree's GoogleDrive\n",
        "instances_json_path = \"/content/gdrive/My Drive/deeptree/Curso_Udemy_Complete_Guide_to_Creating_COCO_Datasets/Resources_cocosynth-master/datasets/box_dataset_synthetic_complete/output/coco_instances.json\"\n",
        "images_path = \"/content/gdrive/My Drive/deeptree/Curso_Udemy_Complete_Guide_to_Creating_COCO_Datasets/Resources_cocosynth-master/datasets/box_dataset_synthetic_complete/output/images\"\n",
        "  \n",
        "coco_dataset = CocoDataset(instances_json_path, images_path)\n",
        "coco_dataset.display_info()\n",
        "coco_dataset.display_licenses()\n",
        "coco_dataset.display_categories()"
      ],
      "execution_count": 6,
      "outputs": [
        {
          "output_type": "stream",
          "text": [
            "Dataset Info\n",
            "==================\n",
            "  description: Adam's Box Dataset\n",
            "  url: immersivelimit.com/adamsboxdataset\n",
            "  version: 1.2\n",
            "  year: 2019\n",
            "  contributor: Adam Kelly\n",
            "  date_created: 03/12/2019\n",
            "Licenses\n",
            "==================\n",
            "  url: immersivelimit.com/awesomeimagelicense\n",
            "  id: 0\n",
            "  name: Awesome Image License\n",
            "Categories\n",
            "==================\n",
            "  super_category: cardboard_box\n",
            "    id 1: moving_box\n",
            "\n",
            "  super_category: plastic_box\n",
            "    id 2: yellow_top_box\n",
            "    id 3: green_top_box\n",
            "\n"
          ],
          "name": "stdout"
        }
      ]
    },
    {
      "cell_type": "markdown",
      "metadata": {
        "id": "5chJngr30aZL",
        "colab_type": "text"
      },
      "source": [
        "##JG: Opening images from github\n"
      ]
    },
    {
      "cell_type": "code",
      "metadata": {
        "id": "l9UtxDmyYAis",
        "colab_type": "code",
        "colab": {}
      },
      "source": [
        "# instances_json_path = \"../datasets/box_dataset_synthetic/output/coco_instances.json\"\n",
        "# images_path = \"../datasets/box_dataset_synthetic/output/images\"\n",
        "\n",
        "# JG: this code access files on a github repository\n",
        "\n",
        "# THIS IS NOT WORKING!!!!!!\n",
        "# instances_json_path = \"../datasets/box_dataset_synthetic_complete/output/coco_instances.json\"\n",
        "# images_path = \"../datasets/box_dataset_synthetic_complete/output/images\"\n",
        "\n",
        "# THIS IS NOT WORKING EITHER!!!!!\n",
        "# instances_json_path = \"https://github.com/just4deeptree/cocosynth/raw/master/datasets/box_dataset_synthetic_complete/output/coco_instances.json\"\n",
        "# images_path = \"https://github.com/just4deeptree/cocosynth/raw/master/datasets/box_dataset_synthetic_complete/output/images\""
      ],
      "execution_count": 0,
      "outputs": []
    },
    {
      "cell_type": "code",
      "metadata": {
        "colab_type": "code",
        "outputId": "12b5301f-603a-4d2d-88f1-996d31e12c61",
        "id": "9WCNQGvt0j-z",
        "colab": {
          "base_uri": "https://localhost:8080/",
          "height": 426
        }
      },
      "source": [
        "# The only solution that works is cloning the repo. It is VERY fast¿?\n",
        "\n",
        "!git clone https://github.com/just4deeptree/cocosynth.git\n",
        "\n",
        "# now there is a cocosynth directory under root in colab with the full repo, so just use:\n",
        "instances_json_path = \"./cocosynth/datasets/box_dataset_synthetic_complete/output/coco_instances.json\"\n",
        "images_path = \"./cocosynth/datasets/box_dataset_synthetic_complete/output/images\"\n",
        "  \n",
        "coco_dataset = CocoDataset(instances_json_path, images_path)\n",
        "coco_dataset.display_info()\n",
        "coco_dataset.display_licenses()\n",
        "coco_dataset.display_categories()\n"
      ],
      "execution_count": 8,
      "outputs": [
        {
          "output_type": "stream",
          "text": [
            "fatal: destination path 'cocosynth' already exists and is not an empty directory.\n",
            "Dataset Info\n",
            "==================\n",
            "  description: Adam's Box Dataset\n",
            "  url: immersivelimit.com/adamsboxdataset\n",
            "  version: 1.2\n",
            "  year: 2019\n",
            "  contributor: Adam Kelly\n",
            "  date_created: 03/12/2019\n",
            "Licenses\n",
            "==================\n",
            "  url: immersivelimit.com/awesomeimagelicense\n",
            "  id: 0\n",
            "  name: Awesome Image License\n",
            "Categories\n",
            "==================\n",
            "  super_category: cardboard_box\n",
            "    id 1: moving_box\n",
            "\n",
            "  super_category: plastic_box\n",
            "    id 2: yellow_top_box\n",
            "    id 3: green_top_box\n",
            "\n"
          ],
          "name": "stdout"
        }
      ]
    },
    {
      "cell_type": "code",
      "metadata": {
        "id": "D68GErxstLS0",
        "colab_type": "code",
        "colab": {
          "resources": {
            "http://localhost:8080/cocosynth/datasets/box_dataset_synthetic_complete/output/images/00000001.jpg": {
              "data": "CjwhRE9DVFlQRSBodG1sPgo8aHRtbCBsYW5nPWVuPgogIDxtZXRhIGNoYXJzZXQ9dXRmLTg+CiAgPG1ldGEgbmFtZT12aWV3cG9ydCBjb250ZW50PSJpbml0aWFsLXNjYWxlPTEsIG1pbmltdW0tc2NhbGU9MSwgd2lkdGg9ZGV2aWNlLXdpZHRoIj4KICA8dGl0bGU+RXJyb3IgNDA0IChOb3QgRm91bmQpISExPC90aXRsZT4KICA8c3R5bGU+CiAgICAqe21hcmdpbjowO3BhZGRpbmc6MH1odG1sLGNvZGV7Zm9udDoxNXB4LzIycHggYXJpYWwsc2Fucy1zZXJpZn1odG1se2JhY2tncm91bmQ6I2ZmZjtjb2xvcjojMjIyO3BhZGRpbmc6MTVweH1ib2R5e21hcmdpbjo3JSBhdXRvIDA7bWF4LXdpZHRoOjM5MHB4O21pbi1oZWlnaHQ6MTgwcHg7cGFkZGluZzozMHB4IDAgMTVweH0qID4gYm9keXtiYWNrZ3JvdW5kOnVybCgvL3d3dy5nb29nbGUuY29tL2ltYWdlcy9lcnJvcnMvcm9ib3QucG5nKSAxMDAlIDVweCBuby1yZXBlYXQ7cGFkZGluZy1yaWdodDoyMDVweH1we21hcmdpbjoxMXB4IDAgMjJweDtvdmVyZmxvdzpoaWRkZW59aW5ze2NvbG9yOiM3Nzc7dGV4dC1kZWNvcmF0aW9uOm5vbmV9YSBpbWd7Ym9yZGVyOjB9QG1lZGlhIHNjcmVlbiBhbmQgKG1heC13aWR0aDo3NzJweCl7Ym9keXtiYWNrZ3JvdW5kOm5vbmU7bWFyZ2luLXRvcDowO21heC13aWR0aDpub25lO3BhZGRpbmctcmlnaHQ6MH19I2xvZ297YmFja2dyb3VuZDp1cmwoLy93d3cuZ29vZ2xlLmNvbS9pbWFnZXMvbG9nb3MvZXJyb3JwYWdlL2Vycm9yX2xvZ28tMTUweDU0LnBuZykgbm8tcmVwZWF0O21hcmdpbi1sZWZ0Oi01cHh9QG1lZGlhIG9ubHkgc2NyZWVuIGFuZCAobWluLXJlc29sdXRpb246MTkyZHBpKXsjbG9nb3tiYWNrZ3JvdW5kOnVybCgvL3d3dy5nb29nbGUuY29tL2ltYWdlcy9sb2dvcy9lcnJvcnBhZ2UvZXJyb3JfbG9nby0xNTB4NTQtMngucG5nKSBuby1yZXBlYXQgMCUgMCUvMTAwJSAxMDAlOy1tb3otYm9yZGVyLWltYWdlOnVybCgvL3d3dy5nb29nbGUuY29tL2ltYWdlcy9sb2dvcy9lcnJvcnBhZ2UvZXJyb3JfbG9nby0xNTB4NTQtMngucG5nKSAwfX1AbWVkaWEgb25seSBzY3JlZW4gYW5kICgtd2Via2l0LW1pbi1kZXZpY2UtcGl4ZWwtcmF0aW86Mil7I2xvZ297YmFja2dyb3VuZDp1cmwoLy93d3cuZ29vZ2xlLmNvbS9pbWFnZXMvbG9nb3MvZXJyb3JwYWdlL2Vycm9yX2xvZ28tMTUweDU0LTJ4LnBuZykgbm8tcmVwZWF0Oy13ZWJraXQtYmFja2dyb3VuZC1zaXplOjEwMCUgMTAwJX19I2xvZ297ZGlzcGxheTppbmxpbmUtYmxvY2s7aGVpZ2h0OjU0cHg7d2lkdGg6MTUwcHh9CiAgPC9zdHlsZT4KICA8YSBocmVmPS8vd3d3Lmdvb2dsZS5jb20vPjxzcGFuIGlkPWxvZ28gYXJpYS1sYWJlbD1Hb29nbGU+PC9zcGFuPjwvYT4KICA8cD48Yj40MDQuPC9iPiA8aW5zPlRoYXTigJlzIGFuIGVycm9yLjwvaW5zPgogIDxwPiAgPGlucz5UaGF04oCZcyBhbGwgd2Uga25vdy48L2lucz4K",
              "ok": false,
              "headers": [
                [
                  "content-length",
                  "1449"
                ],
                [
                  "content-type",
                  "text/html; charset=utf-8"
                ]
              ],
              "status": 404,
              "status_text": ""
            }
          },
          "base_uri": "https://localhost:8080/",
          "height": 683
        },
        "outputId": "b5d28849-fce4-4498-8d64-539ba4fb7f07"
      },
      "source": [
        "html = coco_dataset.display_image(1)\n",
        "IPython.display.HTML(html)"
      ],
      "execution_count": 9,
      "outputs": [
        {
          "output_type": "stream",
          "text": [
            "Image\n",
            "==================\n",
            "  license: 0\n",
            "  file_name: 00000001.jpg\n",
            "  width: 512\n",
            "  height: 512\n",
            "  id: 1\n",
            "  red: yellow_top_box\n",
            "  green: green_top_box\n"
          ],
          "name": "stdout"
        },
        {
          "output_type": "execute_result",
          "data": {
            "text/html": [
              "<div class=\"container\" style=\"position:relative;\"><img src=\"cocosynth/datasets/box_dataset_synthetic_complete/output/images/00000001.jpg\" style=\"position:relative; top:0px; left:0px; width:512px;\"><div class=\"svgclass\"><svg width=\"512\" height=\"512.0\"><polygon points=\"231 293 254 275 260 268 315 218 321 215 334 204 315 101 310  81 311  80\n",
              " 308  70 310  67 316  65 321  61 320  54 322  52 329  49 327  44 330  41\n",
              " 329  35 324  25 311  28 305  31 298  29 290  33 281  35 272  40 273  43\n",
              " 271  45 266  46 263  43 199  70 189  72 171  81 164  82 138  93 136  96\n",
              " 126 100 122  99  85 114  81 116  79 120  76 122  67 123  64 125  60 124\n",
              "  45 130  39 133  36 138  28 139  27 142  23 145  24 154  28 158  39 158\n",
              "  44 162  52 159  54 162  67 185 104 243 104 245 112 254 222 293 231 293\"                         style=\"fill:red; stroke:red; fill-opacity:0.5; stroke-width:1;\" /><polygon points=\"403 410 406 409 411 404 413 398 417 253 411 244 408 243 342 225 336 226\n",
              " 332 230 330 236 311 339 306 359 302 382 303 386 310 393 316 396 322 396\n",
              " 396 410 403 410\"                         style=\"fill:green; stroke:green; fill-opacity:0.5; stroke-width:1;\" /><rect x=\"23\" y=\"25\" width=\"311\" height=\"268\"                     style=\"fill:red; stroke:red; fill-opacity:0\" /><rect x=\"302\" y=\"225\" width=\"115\" height=\"185\"                     style=\"fill:green; stroke:green; fill-opacity:0\" /></svg></div></div><style>.svgclass {position: absolute; top:0px; left: 0px}</style>"
            ],
            "text/plain": [
              "<IPython.core.display.HTML object>"
            ]
          },
          "metadata": {
            "tags": []
          },
          "execution_count": 9
        }
      ]
    },
    {
      "cell_type": "code",
      "metadata": {
        "id": "BV4z8LsLtLS3",
        "colab_type": "code",
        "colab": {}
      },
      "source": [
        ""
      ],
      "execution_count": 0,
      "outputs": []
    }
  ]
}